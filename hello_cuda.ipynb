{
  "nbformat": 4,
  "nbformat_minor": 0,
  "metadata": {
    "colab": {
      "provenance": [],
      "machine_shape": "hm",
      "gpuType": "L4",
      "authorship_tag": "ABX9TyOpp0bQkcHd0LCsIZHb8p2v",
      "include_colab_link": true
    },
    "kernelspec": {
      "name": "python3",
      "display_name": "Python 3"
    },
    "language_info": {
      "name": "python"
    },
    "accelerator": "GPU"
  },
  "cells": [
    {
      "cell_type": "markdown",
      "metadata": {
        "id": "view-in-github",
        "colab_type": "text"
      },
      "source": [
        "<a href=\"https://colab.research.google.com/github/romiebanerjee/cuda-examples/blob/master/hello_cuda.ipynb\" target=\"_parent\"><img src=\"https://colab.research.google.com/assets/colab-badge.svg\" alt=\"Open In Colab\"/></a>"
      ]
    },
    {
      "cell_type": "code",
      "source": [
        "%%writefile hello-2dim.cu\n",
        "#include <stdio.h>\n",
        "#include <unistd.h>\n",
        "\n",
        "//DEMO program that shows the identifying variables of threads in a 2-dim grid and thread block:\n",
        "__global__ void hello( )\n",
        "{\n",
        "   printf(\"grid coord: (%d,%d), thread coord: (%d,%d), grid dim:   (%d,%d), block dim:    (%d,%d)\\n\",\n",
        "           blockIdx.x, blockIdx.y, threadIdx.x, threadIdx.y,\n",
        "           gridDim.x, gridDim.y, blockDim.x, blockDim.y);\n",
        "}\n",
        "\n",
        "int main()\n",
        "{\n",
        "   dim3 gridShape  = dim3( 3, 2 );\n",
        "   dim3 blockShape = dim3( 2, 3 );\n",
        "\n",
        "   hello<<< gridShape, blockShape>>>( );\n",
        "\n",
        "   printf(\"I am the CPU: Hello World ! \\n\");\n",
        "   cudaDeviceSynchronize();\n",
        "}"
      ],
      "metadata": {
        "colab": {
          "base_uri": "https://localhost:8080/"
        },
        "id": "Y1qS2FE1c4gs",
        "outputId": "f5acca3a-3ee4-4e3f-a738-9a8c56c6307e"
      },
      "execution_count": 27,
      "outputs": [
        {
          "output_type": "stream",
          "name": "stdout",
          "text": [
            "Overwriting hello-2dim.cu\n"
          ]
        }
      ]
    },
    {
      "cell_type": "code",
      "source": [
        "!nvcc -arch=sm_89 hello-2dim.cu -o hello-2dim"
      ],
      "metadata": {
        "id": "G3HMOzz9dA56"
      },
      "execution_count": 28,
      "outputs": []
    },
    {
      "cell_type": "code",
      "source": [
        "!./hello-2dim"
      ],
      "metadata": {
        "colab": {
          "base_uri": "https://localhost:8080/"
        },
        "id": "7h6WeHpedz9_",
        "outputId": "00da7f4c-f28b-4847-b7af-e329897b84ef"
      },
      "execution_count": 29,
      "outputs": [
        {
          "output_type": "stream",
          "name": "stdout",
          "text": [
            "I am the CPU: Hello World ! \n",
            "grid coord: (1,0), thread coord: (0,0), grid dim:   (3,2), block dim:    (2,3)\n",
            "grid coord: (1,0), thread coord: (1,0), grid dim:   (3,2), block dim:    (2,3)\n",
            "grid coord: (1,0), thread coord: (0,1), grid dim:   (3,2), block dim:    (2,3)\n",
            "grid coord: (1,0), thread coord: (1,1), grid dim:   (3,2), block dim:    (2,3)\n",
            "grid coord: (1,0), thread coord: (0,2), grid dim:   (3,2), block dim:    (2,3)\n",
            "grid coord: (1,0), thread coord: (1,2), grid dim:   (3,2), block dim:    (2,3)\n",
            "grid coord: (2,1), thread coord: (0,0), grid dim:   (3,2), block dim:    (2,3)\n",
            "grid coord: (2,1), thread coord: (1,0), grid dim:   (3,2), block dim:    (2,3)\n",
            "grid coord: (2,1), thread coord: (0,1), grid dim:   (3,2), block dim:    (2,3)\n",
            "grid coord: (2,1), thread coord: (1,1), grid dim:   (3,2), block dim:    (2,3)\n",
            "grid coord: (2,1), thread coord: (0,2), grid dim:   (3,2), block dim:    (2,3)\n",
            "grid coord: (2,1), thread coord: (1,2), grid dim:   (3,2), block dim:    (2,3)\n",
            "grid coord: (0,0), thread coord: (0,0), grid dim:   (3,2), block dim:    (2,3)\n",
            "grid coord: (0,0), thread coord: (1,0), grid dim:   (3,2), block dim:    (2,3)\n",
            "grid coord: (0,0), thread coord: (0,1), grid dim:   (3,2), block dim:    (2,3)\n",
            "grid coord: (0,0), thread coord: (1,1), grid dim:   (3,2), block dim:    (2,3)\n",
            "grid coord: (0,0), thread coord: (0,2), grid dim:   (3,2), block dim:    (2,3)\n",
            "grid coord: (0,0), thread coord: (1,2), grid dim:   (3,2), block dim:    (2,3)\n",
            "grid coord: (1,1), thread coord: (0,0), grid dim:   (3,2), block dim:    (2,3)\n",
            "grid coord: (1,1), thread coord: (1,0), grid dim:   (3,2), block dim:    (2,3)\n",
            "grid coord: (1,1), thread coord: (0,1), grid dim:   (3,2), block dim:    (2,3)\n",
            "grid coord: (1,1), thread coord: (1,1), grid dim:   (3,2), block dim:    (2,3)\n",
            "grid coord: (1,1), thread coord: (0,2), grid dim:   (3,2), block dim:    (2,3)\n",
            "grid coord: (1,1), thread coord: (1,2), grid dim:   (3,2), block dim:    (2,3)\n",
            "grid coord: (2,0), thread coord: (0,0), grid dim:   (3,2), block dim:    (2,3)\n",
            "grid coord: (2,0), thread coord: (1,0), grid dim:   (3,2), block dim:    (2,3)\n",
            "grid coord: (2,0), thread coord: (0,1), grid dim:   (3,2), block dim:    (2,3)\n",
            "grid coord: (2,0), thread coord: (1,1), grid dim:   (3,2), block dim:    (2,3)\n",
            "grid coord: (2,0), thread coord: (0,2), grid dim:   (3,2), block dim:    (2,3)\n",
            "grid coord: (2,0), thread coord: (1,2), grid dim:   (3,2), block dim:    (2,3)\n",
            "grid coord: (0,1), thread coord: (0,0), grid dim:   (3,2), block dim:    (2,3)\n",
            "grid coord: (0,1), thread coord: (1,0), grid dim:   (3,2), block dim:    (2,3)\n",
            "grid coord: (0,1), thread coord: (0,1), grid dim:   (3,2), block dim:    (2,3)\n",
            "grid coord: (0,1), thread coord: (1,1), grid dim:   (3,2), block dim:    (2,3)\n",
            "grid coord: (0,1), thread coord: (0,2), grid dim:   (3,2), block dim:    (2,3)\n",
            "grid coord: (0,1), thread coord: (1,2), grid dim:   (3,2), block dim:    (2,3)\n"
          ]
        }
      ]
    },
    {
      "cell_type": "code",
      "source": [
        "%%writefile hello-2dim-ID.cu\n",
        "//DEMO program that shows how to compute unique ID for threads in a 2-dim grid and thread block\n",
        "#include <stdio.h>\n",
        "#include <unistd.h>\n",
        "\n",
        "__global__ void hello( )\n",
        "{\n",
        "   printf(\"blockIdx:(%d,%d), threadIdx:(%d,%d) -> Row,Col=(%d,%d)\\n\",\n",
        "           blockIdx.x, blockIdx.y, threadIdx.x, threadIdx.y,\n",
        "           blockIdx.x * blockDim.x + threadIdx.x,   // rowID\n",
        "           blockIdx.y * blockDim.y + threadIdx.y);  // columnID\n",
        "}\n",
        "\n",
        "int main()\n",
        "{\n",
        "   dim3 blockShape = dim3( 2, 3 );\n",
        "   dim3 gridShape  = dim3( 3, 2 );\n",
        "\n",
        "   hello<<< gridShape, blockShape>>>( );\n",
        "\n",
        "   printf(\"I am the CPU: Hello World ! \\n\");\n",
        "   cudaDeviceSynchronize();\n",
        "}"
      ],
      "metadata": {
        "colab": {
          "base_uri": "https://localhost:8080/"
        },
        "id": "uB7ZGONUeQWB",
        "outputId": "334e7d65-b225-4c3b-c76e-bbadb1a94444"
      },
      "execution_count": 37,
      "outputs": [
        {
          "output_type": "stream",
          "name": "stdout",
          "text": [
            "Overwriting hello-2dim-ID.cu\n"
          ]
        }
      ]
    },
    {
      "cell_type": "code",
      "source": [
        "!nvcc -arch=sm_89 hello-2dim-ID.cu -o hello-2dim-ID"
      ],
      "metadata": {
        "id": "O0wehnUwecGr"
      },
      "execution_count": 38,
      "outputs": []
    },
    {
      "cell_type": "code",
      "source": [
        "!./hello-2dim-ID"
      ],
      "metadata": {
        "colab": {
          "base_uri": "https://localhost:8080/"
        },
        "id": "aCxkkcDSelvE",
        "outputId": "518fdb66-5eb5-4847-be28-7275babac83a"
      },
      "execution_count": 39,
      "outputs": [
        {
          "output_type": "stream",
          "name": "stdout",
          "text": [
            "I am the CPU: Hello World ! \n",
            "blockIdx:(1,0), threadIdx:(0,0) -> Row,Col=(2,0)\n",
            "blockIdx:(1,0), threadIdx:(1,0) -> Row,Col=(3,0)\n",
            "blockIdx:(1,0), threadIdx:(0,1) -> Row,Col=(2,1)\n",
            "blockIdx:(1,0), threadIdx:(1,1) -> Row,Col=(3,1)\n",
            "blockIdx:(1,0), threadIdx:(0,2) -> Row,Col=(2,2)\n",
            "blockIdx:(1,0), threadIdx:(1,2) -> Row,Col=(3,2)\n",
            "blockIdx:(2,1), threadIdx:(0,0) -> Row,Col=(4,3)\n",
            "blockIdx:(2,1), threadIdx:(1,0) -> Row,Col=(5,3)\n",
            "blockIdx:(2,1), threadIdx:(0,1) -> Row,Col=(4,4)\n",
            "blockIdx:(2,1), threadIdx:(1,1) -> Row,Col=(5,4)\n",
            "blockIdx:(2,1), threadIdx:(0,2) -> Row,Col=(4,5)\n",
            "blockIdx:(2,1), threadIdx:(1,2) -> Row,Col=(5,5)\n",
            "blockIdx:(0,0), threadIdx:(0,0) -> Row,Col=(0,0)\n",
            "blockIdx:(0,0), threadIdx:(1,0) -> Row,Col=(1,0)\n",
            "blockIdx:(0,0), threadIdx:(0,1) -> Row,Col=(0,1)\n",
            "blockIdx:(0,0), threadIdx:(1,1) -> Row,Col=(1,1)\n",
            "blockIdx:(0,0), threadIdx:(0,2) -> Row,Col=(0,2)\n",
            "blockIdx:(0,0), threadIdx:(1,2) -> Row,Col=(1,2)\n",
            "blockIdx:(2,0), threadIdx:(0,0) -> Row,Col=(4,0)\n",
            "blockIdx:(2,0), threadIdx:(1,0) -> Row,Col=(5,0)\n",
            "blockIdx:(2,0), threadIdx:(0,1) -> Row,Col=(4,1)\n",
            "blockIdx:(2,0), threadIdx:(1,1) -> Row,Col=(5,1)\n",
            "blockIdx:(2,0), threadIdx:(0,2) -> Row,Col=(4,2)\n",
            "blockIdx:(2,0), threadIdx:(1,2) -> Row,Col=(5,2)\n",
            "blockIdx:(1,1), threadIdx:(0,0) -> Row,Col=(2,3)\n",
            "blockIdx:(1,1), threadIdx:(1,0) -> Row,Col=(3,3)\n",
            "blockIdx:(1,1), threadIdx:(0,1) -> Row,Col=(2,4)\n",
            "blockIdx:(1,1), threadIdx:(1,1) -> Row,Col=(3,4)\n",
            "blockIdx:(1,1), threadIdx:(0,2) -> Row,Col=(2,5)\n",
            "blockIdx:(1,1), threadIdx:(1,2) -> Row,Col=(3,5)\n",
            "blockIdx:(0,1), threadIdx:(0,0) -> Row,Col=(0,3)\n",
            "blockIdx:(0,1), threadIdx:(1,0) -> Row,Col=(1,3)\n",
            "blockIdx:(0,1), threadIdx:(0,1) -> Row,Col=(0,4)\n",
            "blockIdx:(0,1), threadIdx:(1,1) -> Row,Col=(1,4)\n",
            "blockIdx:(0,1), threadIdx:(0,2) -> Row,Col=(0,5)\n",
            "blockIdx:(0,1), threadIdx:(1,2) -> Row,Col=(1,5)\n"
          ]
        }
      ]
    },
    {
      "cell_type": "code",
      "execution_count": 40,
      "metadata": {
        "colab": {
          "base_uri": "https://localhost:8080/"
        },
        "id": "Ljko19q8zfLu",
        "outputId": "b5733fce-c2a6-4d40-f5fd-b3229fde79ea"
      },
      "outputs": [
        {
          "output_type": "stream",
          "name": "stdout",
          "text": [
            "Writing vector_add.cu\n"
          ]
        }
      ],
      "source": [
        "%%writefile vector_add.cu\n",
        "#include <stdio.h>\n",
        "#include <cuda_runtime.h> // Needed for CUDA functions and types\n",
        "\n",
        "// 1. KERNEL DEFINITION\n",
        "// This function will execute on the GPU\n",
        "__global__ void addArrays(int n, float *a, float *b, float *result) {\n",
        "    // Calculate a unique index for each thread\n",
        "    int index = blockIdx.x * blockDim.x + threadIdx.x;\n",
        "\n",
        "    // Check if this thread's index is within the array bounds\n",
        "    if (index < n) {\n",
        "        // This single line of code is executed in parallel by ALL threads\n",
        "        result[index] = a[index] + b[index];\n",
        "    }\n",
        "}\n",
        "\n",
        "int main() {\n",
        "    // 2. SETUP PROBLEM SIZE AND HOST (CPU) MEMORY\n",
        "    int numElements = 1000000;\n",
        "    size_t size = numElements * sizeof(float);\n",
        "\n",
        "    // Allocate and initialize host arrays\n",
        "    float *h_a = (float *)malloc(size);\n",
        "    float *h_b = (float *)malloc(size);\n",
        "    float *h_result = (float *)malloc(size); // To store results from GPU\n",
        "\n",
        "    for (int i = 0; i < numElements; i++) {\n",
        "        h_a[i] = 1.0f; // Initialize array a with 1.0\n",
        "        h_b[i] = 2.0f; // Initialize array b with 2.0\n",
        "    }\n",
        "\n",
        "    // 3. ALLOCATE DEVICE (GPU) MEMORY\n",
        "    float *d_a = NULL, *d_b = NULL, *d_result = NULL;\n",
        "    cudaMalloc((void**)&d_a, size);\n",
        "    cudaMalloc((void**)&d_b, size);\n",
        "    cudaMalloc((void**)&d_result, size);\n",
        "\n",
        "    // 4. COPY DATA FROM HOST TO DEVICE\n",
        "    cudaMemcpy(d_a, h_a, size, cudaMemcpyHostToDevice);\n",
        "    cudaMemcpy(d_b, h_b, size, cudaMemcpyHostToDevice);\n",
        "\n",
        "    // 5. CONFIGURE AND LAUNCH THE KERNEL\n",
        "    // Define the execution configuration\n",
        "    int threadsPerBlock = 256; // A common choice\n",
        "    printf(\"threadsPerBlock = %d \\n\", threadsPerBlock);\n",
        "\n",
        "    // Calculate the number of blocks needed to cover the entire array\n",
        "    int blocksPerGrid = (numElements) / threadsPerBlock;\n",
        "    printf(\"blocksPerGrid = %d \\n\", blocksPerGrid);\n",
        "\n",
        "    // Launch the kernel on the GPU\n",
        "    // Syntax: <<<Number of Blocks, Threads per Block>>>\n",
        "    addArrays<<<blocksPerGrid, threadsPerBlock>>>(numElements, d_a, d_b, d_result);\n",
        "\n",
        "    // 6. COPY RESULT BACK FROM DEVICE TO HOST\n",
        "    cudaMemcpy(h_result, d_result, size, cudaMemcpyDeviceToHost);\n",
        "\n",
        "    // 7. VERIFY THE RESULTS\n",
        "    // Check the first and last few elements for correctness\n",
        "    for (int i = 0; i < 5; i++) {\n",
        "        printf(\"Element %d: %.1f + %.1f = %.1f (expected 3.0)\\n\",\n",
        "               i, h_a[i], h_b[i], h_result[i]);\n",
        "    }\n",
        "    printf(\"...\\n\");\n",
        "    for (int i = numElements-5; i < numElements; i++) {\n",
        "        printf(\"Element %d: %.1f + %.1f = %.1f (expected 3.0)\\n\",\n",
        "               i, h_a[i], h_b[i], h_result[i]);\n",
        "    }\n",
        "\n",
        "    // 8. FREE ALL ALLOCATED MEMORY\n",
        "    cudaFree(d_a);\n",
        "    cudaFree(d_b);\n",
        "    cudaFree(d_result);\n",
        "    free(h_a);\n",
        "    free(h_b);\n",
        "    free(h_result);\n",
        "\n",
        "    printf(\"Done!\\n\");\n",
        "    return 0;\n",
        "}"
      ]
    },
    {
      "cell_type": "code",
      "source": [
        "!nvcc -arch=sm_89 vector_add.cu -o vector_add"
      ],
      "metadata": {
        "id": "s0jQv6l_2XtI"
      },
      "execution_count": 41,
      "outputs": []
    },
    {
      "cell_type": "code",
      "source": [
        "!./vector_add"
      ],
      "metadata": {
        "colab": {
          "base_uri": "https://localhost:8080/"
        },
        "id": "jm7WXtYT2ugs",
        "outputId": "853b5d5d-b102-45a4-dcee-9b579a8e71d6"
      },
      "execution_count": 42,
      "outputs": [
        {
          "output_type": "stream",
          "name": "stdout",
          "text": [
            "threadsPerBlock = 256 \n",
            "blocksPerGrid = 3906 \n",
            "Element 0: 1.0 + 2.0 = 3.0 (expected 3.0)\n",
            "Element 1: 1.0 + 2.0 = 3.0 (expected 3.0)\n",
            "Element 2: 1.0 + 2.0 = 3.0 (expected 3.0)\n",
            "Element 3: 1.0 + 2.0 = 3.0 (expected 3.0)\n",
            "Element 4: 1.0 + 2.0 = 3.0 (expected 3.0)\n",
            "...\n",
            "Element 999995: 1.0 + 2.0 = 0.0 (expected 3.0)\n",
            "Element 999996: 1.0 + 2.0 = 0.0 (expected 3.0)\n",
            "Element 999997: 1.0 + 2.0 = 0.0 (expected 3.0)\n",
            "Element 999998: 1.0 + 2.0 = 0.0 (expected 3.0)\n",
            "Element 999999: 1.0 + 2.0 = 0.0 (expected 3.0)\n",
            "Done!\n"
          ]
        }
      ]
    },
    {
      "cell_type": "code",
      "source": [
        "%%writefile matrix_add.cu\n",
        "#include <cuda_runtime.h>\n",
        "#include <iostream>\n",
        "\n",
        "// Kernel definition for matrix addition\n",
        "__global__ void matrixAdd(int N, float* A, float* B, float* C) {\n",
        "    // Calculate row and column indices\n",
        "    int i = blockIdx.x * blockDim.x + threadIdx.x;\n",
        "    int j = blockIdx.y * blockDim.y + threadIdx.y;\n",
        "\n",
        "    // Check if within bounds\n",
        "    if (i < N && j < N) {\n",
        "        // Linear index for 1D array representation\n",
        "        int idx = j * N + i;\n",
        "        C[idx] = A[idx] + B[idx];\n",
        "    }\n",
        "}\n",
        "\n",
        "int main() {\n",
        "    const int N = 1024; // Matrix size (1024x1024)\n",
        "    size_t size = N * N * sizeof(float);\n",
        "\n",
        "    // Allocate host memory\n",
        "    float* h_A = (float*)malloc(size);\n",
        "    float* h_B = (float*)malloc(size);\n",
        "    float* h_C = (float*)malloc(size);\n",
        "\n",
        "    // Initialize host matrices\n",
        "    for (int i = 0; i < N * N; i++) {\n",
        "        h_A[i] = rand() / (float)RAND_MAX;\n",
        "        h_B[i] = rand() / (float)RAND_MAX;\n",
        "    }\n",
        "    printf(\"h_A[0] = %f \\n\", h_A[0]);\n",
        "    printf(\"h_B[0] = %f \\n\", h_B[0]);\n",
        "\n",
        "    // Allocate device memory\n",
        "    float *d_A, *d_B, *d_C;\n",
        "    cudaMalloc((void**)&d_A, size);\n",
        "    cudaMalloc((void**)&d_B, size);\n",
        "    cudaMalloc((void**)&d_C, size);\n",
        "\n",
        "    // Copy data from host to device\n",
        "    cudaMemcpy(d_A, h_A, size, cudaMemcpyHostToDevice);\n",
        "    cudaMemcpy(d_B, h_B, size, cudaMemcpyHostToDevice);\n",
        "\n",
        "    // Define block and grid dimensions\n",
        "    dim3 threadsPerBlock(16, 16); // 256 threads per block\n",
        "    dim3 numBlocks((N + threadsPerBlock.x - 1) / threadsPerBlock.x,\n",
        "                   (N + threadsPerBlock.y - 1) / threadsPerBlock.y);\n",
        "\n",
        "    // Launch kernel\n",
        "    matrixAdd<<<numBlocks, threadsPerBlock>>>(N, d_A, d_B, d_C);\n",
        "\n",
        "    // Copy result back to host\n",
        "    cudaMemcpy(h_C, d_C, size, cudaMemcpyDeviceToHost);\n",
        "    printf(\"h_C[0] = %f \\n\", h_C[0]);\n",
        "\n",
        "    // Verify result (optional)\n",
        "    bool success = true;\n",
        "    for (int i = 0; i < N * N; i++) {\n",
        "        if (fabs(h_A[i] + h_B[i] - h_C[i]) > 1e-5) {\n",
        "            success = false;\n",
        "            break;\n",
        "        }\n",
        "    }\n",
        "    std::cout << \"Result: \" << (success ? \"PASS\" : \"FAIL\") << std::endl;\n",
        "\n",
        "    // Cleanup\n",
        "    cudaFree(d_A);\n",
        "    cudaFree(d_B);\n",
        "    cudaFree(d_C);\n",
        "    free(h_A);\n",
        "    free(h_B);\n",
        "    free(h_C);\n",
        "\n",
        "    return 0;\n",
        "}"
      ],
      "metadata": {
        "colab": {
          "base_uri": "https://localhost:8080/"
        },
        "id": "BScglW3z3QVI",
        "outputId": "d43b03e5-f537-4bec-8312-8292a6c28e03"
      },
      "execution_count": 43,
      "outputs": [
        {
          "output_type": "stream",
          "name": "stdout",
          "text": [
            "Overwriting matrix_add.cu\n"
          ]
        }
      ]
    },
    {
      "cell_type": "code",
      "source": [
        "!nvcc -arch=sm_89 matrix_add.cu -o matrix_add"
      ],
      "metadata": {
        "id": "7FbOj53hZcHD"
      },
      "execution_count": 44,
      "outputs": []
    },
    {
      "cell_type": "code",
      "source": [
        "!./matrix_add"
      ],
      "metadata": {
        "colab": {
          "base_uri": "https://localhost:8080/"
        },
        "id": "e59dN4NWZdxa",
        "outputId": "5a8edb83-2dc3-4c57-8256-99664c638a4e"
      },
      "execution_count": 45,
      "outputs": [
        {
          "output_type": "stream",
          "name": "stdout",
          "text": [
            "h_A[0] = 0.840188 \n",
            "h_B[0] = 0.394383 \n",
            "h_C[0] = 1.234571 \n",
            "Result: PASS\n"
          ]
        }
      ]
    },
    {
      "cell_type": "code",
      "source": [
        "%%writefile matrix_multiply.cu\n",
        "#include <cuda_runtime.h>\n",
        "#include <iostream>\n",
        "#include <cstdlib> // for rand()\n",
        "\n",
        "__global__ void matrixMulKernel(int M, int N, int K, const float* A, const float* B, float* C) {\n",
        "    int row = blockIdx.y * blockDim.y + threadIdx.y;\n",
        "    int col = blockIdx.x * blockDim.x + threadIdx.x;\n",
        "\n",
        "    if (row < M && col < N) {\n",
        "        float sum = 0.0f;\n",
        "        for (int k = 0; k < K; ++k) {\n",
        "            sum += A[row * K + k] * B[k * N + col];\n",
        "        }\n",
        "        C[row * N + col] = sum;\n",
        "    }\n",
        "}\n",
        "\n",
        "void matrixMultiply(int M, int N, int K, const float* h_A, const float* h_B, float* h_C) {\n",
        "    size_t sizeA = M * K * sizeof(float);\n",
        "    size_t sizeB = K * N * sizeof(float);\n",
        "    size_t sizeC = M * N * sizeof(float);\n",
        "\n",
        "    float *d_A, *d_B, *d_C;\n",
        "\n",
        "    // 1. Allocate device memory\n",
        "    cudaMalloc((void**)&d_A, sizeA);\n",
        "    cudaMalloc((void**)&d_B, sizeB);\n",
        "    cudaMalloc((void**)&d_C, sizeC);\n",
        "\n",
        "    // 2. Copy data to device\n",
        "    cudaMemcpy(d_A, h_A, sizeA, cudaMemcpyHostToDevice);\n",
        "    cudaMemcpy(d_B, h_B, sizeB, cudaMemcpyHostToDevice);\n",
        "\n",
        "    // 3. Configure and launch kernel\n",
        "    dim3 blockDim(16, 16);\n",
        "    dim3 gridDim((N + blockDim.x - 1) / blockDim.x, (M + blockDim.y - 1) / blockDim.y);\n",
        "\n",
        "    matrixMulKernel<<<gridDim, blockDim>>>(M, N, K, d_A, d_B, d_C);\n",
        "\n",
        "    // 4. Copy result back\n",
        "    cudaMemcpy(h_C, d_C, sizeC, cudaMemcpyDeviceToHost);\n",
        "\n",
        "    // 5. Cleanup\n",
        "    cudaFree(d_A);\n",
        "    cudaFree(d_B);\n",
        "    cudaFree(d_C);\n",
        "}\n",
        "\n",
        "int main() {\n",
        "    int M = 512, N = 512, K = 512; // Matrix dimensions\n",
        "\n",
        "    // Allocate host memory\n",
        "    size_t sizeA = M * K * sizeof(float);\n",
        "    size_t sizeB = K * N * sizeof(float);\n",
        "    size_t sizeC = M * N * sizeof(float);\n",
        "\n",
        "    float* h_A = (float*)malloc(sizeA);\n",
        "    float* h_B = (float*)malloc(sizeB);\n",
        "    float* h_C = (float*)malloc(sizeC);\n",
        "\n",
        "    // Initialize matrices with random values\n",
        "    for (int i = 0; i < M * K; i++) h_A[i] = static_cast<float>(rand()) / RAND_MAX;\n",
        "    for (int i = 0; i < K * N; i++) h_B[i] = static_cast<float>(rand()) / RAND_MAX;\n",
        "\n",
        "    // Run matrix multiplication\n",
        "    matrixMultiply(M, N, K, h_A, h_B, h_C);\n",
        "\n",
        "    // Print a sample result\n",
        "    std::cout << \"C[0][0] = \" << h_C[0] << std::endl;\n",
        "    std::cout << \"C[100][100] = \" << h_C[100 * N + 100] << std::endl;\n",
        "\n",
        "    // Cleanup\n",
        "    free(h_A);\n",
        "    free(h_B);\n",
        "    free(h_C);\n",
        "\n",
        "    return 0;\n",
        "}"
      ],
      "metadata": {
        "id": "qswR0rE3Zg1p",
        "colab": {
          "base_uri": "https://localhost:8080/"
        },
        "outputId": "a242b453-31e6-4f06-91bd-bcea33efae05"
      },
      "execution_count": 46,
      "outputs": [
        {
          "output_type": "stream",
          "name": "stdout",
          "text": [
            "Overwriting matrix_multiply.cu\n"
          ]
        }
      ]
    },
    {
      "cell_type": "code",
      "source": [
        "!nvcc -arch=sm_89 matrix_multiply.cu -o matrix_multiply"
      ],
      "metadata": {
        "id": "Kk-HR3nwR-Gn"
      },
      "execution_count": 47,
      "outputs": []
    },
    {
      "cell_type": "code",
      "source": [
        "!./matrix_multiply"
      ],
      "metadata": {
        "colab": {
          "base_uri": "https://localhost:8080/"
        },
        "id": "jYlpmWJxSEtw",
        "outputId": "8500bce1-96c2-4788-ce6c-ce82f4b8e972"
      },
      "execution_count": 48,
      "outputs": [
        {
          "output_type": "stream",
          "name": "stdout",
          "text": [
            "C[0][0] = 135.775\n",
            "C[100][100] = 124.573\n"
          ]
        }
      ]
    }
  ]
}